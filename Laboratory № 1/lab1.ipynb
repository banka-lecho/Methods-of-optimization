{
  "cells": [
    {
      "cell_type": "code",
      "execution_count": 1,
      "metadata": {
        "id": "efIx5NNkqo-w",
        "colab": {
          "base_uri": "https://localhost:8080/"
        },
        "outputId": "5ffd1ef6-dad0-42b7-aa7d-f46d0bf4d658"
      },
      "outputs": [
        {
          "output_type": "stream",
          "name": "stderr",
          "text": [
            "<ipython-input-1-dfbe500379d8>:5: DeprecationWarning: Please use `scalar_search_wolfe2` from the `scipy.optimize` namespace, the `scipy.optimize.linesearch` namespace is deprecated.\n",
            "  from scipy.optimize.linesearch import scalar_search_wolfe2\n"
          ]
        }
      ],
      "source": [
        "import numpy as np\n",
        "from matplotlib import pyplot as plt\n",
        "from matplotlib.colors import ListedColormap\n",
        "from scipy.sparse import diags\n",
        "from scipy.optimize.linesearch import scalar_search_wolfe2"
      ]
    },
    {
      "cell_type": "markdown",
      "metadata": {
        "id": "RDSr5puv279G"
      },
      "source": [
        "### Пункт № 1: градиентный спуск\n",
        "\n"
      ]
    },
    {
      "cell_type": "markdown",
      "metadata": {
        "id": "6yWJ5AdPZkDA"
      },
      "source": [
        "> Класс, реализующий матричную-векторную функцию и действия с ней"
      ]
    },
    {
      "cell_type": "code",
      "execution_count": 13,
      "metadata": {
        "id": "JJJHpa4hhbMh"
      },
      "outputs": [],
      "source": [
        "class QuadraticOracle:\n",
        "    def __init__(self, A, b):\n",
        "        self.A = A\n",
        "        self.b = b\n",
        "    def func(self, x):\n",
        "        return 0.5 * np.dot(self.A.dot(x), x) - self.b.dot(x)\n",
        "    def grad(self, x):\n",
        "        return self.A.dot(x) - self.b\n",
        "    def funcDirectional(self, x, d, al):\n",
        "        return np.squeeze(self.func(x + al * d))\n",
        "    def gradDirectional(self, x, d, al):\n",
        "        return np.squeeze(self.grad(x + al * d).dot(d))\n"
      ]
    },
    {
      "cell_type": "markdown",
      "metadata": {
        "id": "YE-7w-FvaMlJ"
      },
      "source": [
        "> Градиентный спуск с шагом который можно задать самим (без ограничений на число итераций)"
      ]
    },
    {
      "cell_type": "code",
      "execution_count": 14,
      "metadata": {
        "id": "42SQM5MVhdw5"
      },
      "outputs": [],
      "source": [
        "def gradientDescentConstantStep(oracle: QuadraticOracle, x_0, step, threshold=0.1):\n",
        "    x_i = x_0\n",
        "    func_x_i = oracle.func(x_i)\n",
        "    grad_x_i = oracle.grad(x_i)\n",
        "    a_k = None\n",
        "    trace = []\n",
        "    funcRes = []\n",
        "    grad_x_0_norm = np.linalg.norm(grad_x_i)\n",
        "    diff = 1e9\n",
        "    funcRes.append(func_x_i)\n",
        "    if x_0.size <= 2:\n",
        "        trace.append(np.copy(x_i))\n",
        "    count_of_appeals = 2\n",
        "    grad_x_i_norm = np.linalg.norm(grad_x_i)\n",
        "    while diff > threshold:\n",
        "        d_k = -grad_x_i\n",
        "        a_k = step\n",
        "        x_i += a_k * d_k\n",
        "        func_x_i = oracle.func(x_i)\n",
        "        grad_x_i = oracle.grad(x_i)\n",
        "        grad_x_i_norm = np.linalg.norm(grad_x_i)\n",
        "        count_of_appeals += 3\n",
        "        funcRes.append(func_x_i)\n",
        "        diff = np.absolute(funcRes[-1] - funcRes[-2])\n",
        "        if x_0.size <= 2:\n",
        "            trace.append(np.copy(x_i))\n",
        "    return x_i, trace, funcRes, count_of_appeals"
      ]
    },
    {
      "cell_type": "markdown",
      "metadata": {
        "id": "qer3vIiu3fwt"
      },
      "source": [
        "Функционал для слежения за результатом градиетного спуска"
      ]
    },
    {
      "cell_type": "code",
      "execution_count": 15,
      "metadata": {
        "id": "6rxIY2uWRvYA",
        "colab": {
          "base_uri": "https://localhost:8080/"
        },
        "outputId": "e1999fcb-81b1-4b47-ede2-76ec06f19f26"
      },
      "outputs": [
        {
          "output_type": "stream",
          "name": "stdout",
          "text": [
            "число итераций: 30, число обращений к оракулу: 89\n"
          ]
        }
      ],
      "source": [
        "b = np.array([0.0, 0.0])\n",
        "oracle = QuadraticOracle(np.array([[1.0, 0.0], [0.0, 1.0]]), b)\n",
        "x_i, trace, funcRes, count_of_appeals = gradientDescentConstantStep(oracle, np.array([4.0, 4.5]), 0.1, 0.01)\n",
        "result = funcRes[-1]\n",
        "print('число итераций: ' + str(len(funcRes)) + ', число обращений к оракулу: ' + str(count_of_appeals))"
      ]
    },
    {
      "cell_type": "markdown",
      "metadata": {
        "id": "VYovgsq3cE4I"
      },
      "source": [
        "Функция для отрисовки резултата ГС в пространстве\n",
        "\n"
      ]
    },
    {
      "cell_type": "code",
      "execution_count": 16,
      "metadata": {
        "id": "sqWIrdqnrKD7"
      },
      "outputs": [],
      "source": [
        "def draw_3D(trace, funcs):\n",
        "    x_list, y_list = zip(*trace)\n",
        "    l_list = funcs\n",
        "    fig = plt.figure(figsize = (14,12))\n",
        "    fig = plt.figure(figsize = (14,12))\n",
        "    x = np.linspace(-5, 5, 1000)\n",
        "    y = np.linspace(-5, 5, 1000)\n",
        "    x, y = np.meshgrid(x, y)\n",
        "    #f = 9 * x ** 2 + 12 * x * y + 9 * y ** 2 - 3 * x - 3 * y\n",
        "    f = x**2 + y**2\n",
        "    ax = fig.add_subplot(projection = '3d')\n",
        "    ax.plot_surface(x, y, f, cmap = 'BuPu')\n",
        "    ax.text(1.0, 2.0, 5.0, 'A', size = 25)\n",
        "    ax.text(0, 0, 0, 'B', size = 25)\n",
        "    ax.set_xlabel('x', fontsize = 15)\n",
        "    ax.set_ylabel('y', fontsize = 15)\n",
        "    ax.set_zlabel('f(x, y)', fontsize = 15)\n",
        "    ax.plot(x_list, y_list, l_list, '.-', c = 'red')\n",
        "    plt.show()"
      ]
    },
    {
      "cell_type": "markdown",
      "metadata": {
        "id": "mXVrNgYVV3nk"
      },
      "source": [
        "Функция для отрисовки линий уровня на плоскости соот-но"
      ]
    },
    {
      "cell_type": "code",
      "execution_count": 17,
      "metadata": {
        "id": "kn9yqiMeTmNi"
      },
      "outputs": [],
      "source": [
        "COLOR_RED = np.linspace(240, 166, 256) / 255.\n",
        "COLOR_GREEN = np.linspace(244, 188, 256) / 255.\n",
        "COLOR_BLUE = np.linspace(246, 203, 256) / 255."
      ]
    },
    {
      "cell_type": "code",
      "execution_count": 18,
      "metadata": {
        "id": "KOUFRCfRrPxw"
      },
      "outputs": [],
      "source": [
        "def plotLevels(func):\n",
        "    xrange = [-15.0, 15.0]\n",
        "    yrange = [-15.0, 15.0]\n",
        "    levels = [0, 0.25, 1, 4, 9, 16, 25, 36, 49, 64, 81]\n",
        "\n",
        "    x = np.linspace(xrange[0], xrange[1], 100)\n",
        "    y = np.linspace(yrange[0], yrange[1], 100)\n",
        "    X, Y = np.meshgrid(x, y)\n",
        "    Z = np.zeros(X.shape)\n",
        "    for i in range(Z.shape[0]):\n",
        "        for j in range(Z.shape[1]):\n",
        "            Z[i, j] = func(np.array([X[i, j], Y[i, j]]))\n",
        "\n",
        "    colors = np.vstack([COLOR_RED, COLOR_GREEN, COLOR_BLUE]).T\n",
        "    my_cmap = ListedColormap(colors)\n",
        "\n",
        "    _ = plt.contourf(X, Y, Z, levels=levels, cmap=my_cmap)\n",
        "    CS = plt.contour(X, Y, Z, levels=levels, colors='#C79FEF')\n",
        "    plt.clabel(CS, inline=1, fontsize=6, colors='#380282')\n",
        "    plt.grid()"
      ]
    },
    {
      "cell_type": "code",
      "execution_count": 21,
      "metadata": {
        "id": "W4MHchj8WNEG"
      },
      "outputs": [],
      "source": [
        "def plotTrace(trace):\n",
        "    x_values, y_values = zip(*trace)\n",
        "    plt.plot(x_values, y_values, '-o', linewidth=1.0, ms=5.0,\n",
        "             alpha=1.0, c='C2', label=\"Trajectory\")"
      ]
    },
    {
      "cell_type": "code",
      "execution_count": null,
      "metadata": {
        "id": "3040Y_h6WOTF"
      },
      "outputs": [],
      "source": [
        "def three_d():\n",
        "    b = np.array([3.0, 3.0])\n",
        "    oracle = QuadraticOracle(np.array([[9.0, 6.0], [6.0, 9.0]]), b)\n",
        "    x_i, trace, funcRes, count_of_appeals = gradientDescentConstantStep(oracle, np.array([-3.0, 3.0]), 0.1, 0.01)\n",
        "    result = funcRes[-1]\n",
        "    # print(\"результат: \" + str(result))\n",
        "    # print('число итераций: ' + str(len(funcRes)) + ', число обращений к оракулу: ' + str(count_of_appeals))\n",
        "    \n",
        "    draw_3D(trace, funcRes)\n",
        "    \n",
        "def two_d():\n",
        "    b = np.array([3.0, 3.0])\n",
        "    oracle = QuadraticOracle(np.array([[9.0, 6.0], [6.0, 9.0]]), b)\n",
        "    x_i, trace, funcRes, count_of_appeals = gradientDescentConstantStep(oracle, np.array([-3.0, 3.0]), 0.1, 0.01)\n",
        "    result = funcRes[-1]\n",
        "    # print(\"результат: \" + str(result))\n",
        "    # print('число итераций: ' + str(len(funcRes)) + ', число обращений к оракулу: ' + str(count_of_appeals))\n",
        "    plotLevels(oracle.func)\n",
        "    plotTrace(trace)\n",
        "    plt.show()\n",
        "\n",
        "two_d()\n",
        "three_d()"
      ]
    },
    {
      "cell_type": "markdown",
      "metadata": {
        "id": "dWcqdtUU0yO8"
      },
      "source": [
        "# Пункт 2: метод одномерного поиска\n",
        "\n",
        "> Реализуйте метод одномерного поиска (метод дихотомии, метод Фибоначчи,метод золотого сечения) и градиентный спуск на его основе.\n",
        "\n",
        "> Мы сделали градиентный спуск для функции n переменных, но все симметричные методы написаны для 2 переменных."
      ]
    },
    {
      "cell_type": "markdown",
      "metadata": {
        "id": "DYDmBV1Y5VzO"
      },
      "source": [
        "Метод золотого сечения\n"
      ]
    },
    {
      "cell_type": "code",
      "execution_count": 23,
      "metadata": {
        "id": "gLSKYpQY1ph1"
      },
      "outputs": [],
      "source": [
        "def goldenratio(x_i):\n",
        "    e = 0.01\n",
        "    a = -1\n",
        "    b = 8\n",
        "    x1 = a + ((3 - 5 ** 0.5) / 2) * (b - a)\n",
        "    x2 = a + ((5 ** 0.5 - 1) / 2) * (b - a)\n",
        "    \n",
        "    fk = oracle.func(x_i)\n",
        "    \n",
        "    f1 = x1 * fk\n",
        "    f2 = x2 * fk\n",
        "    while abs(b - a) >= e:\n",
        "        if f1 < f2:\n",
        "            b, x2, f2 = x2, x1, f1\n",
        "            x1 = a + ((3 - 5 ** 0.5) / 2) * (b - a)\n",
        "            f1 = x1 * fk\n",
        "        else:\n",
        "            a, x1, f1 = x1, x2, f2\n",
        "            x2 = a + ((5 ** 0.5 - 1) / 2) * (b - a)\n",
        "            f2 = x2 * fk\n",
        "\n",
        "    return (a + b) / 2, 1"
      ]
    },
    {
      "cell_type": "markdown",
      "metadata": {
        "id": "J_cZb9dEhQ3q"
      },
      "source": [
        "> Градиентный спуск на основе метода дихотомии"
      ]
    },
    {
      "cell_type": "code",
      "execution_count": 24,
      "metadata": {
        "id": "RR0eDi-GEDr-"
      },
      "outputs": [],
      "source": [
        "def gradientDescentGoldenSearch(oracle: QuadraticOracle, x_0):\n",
        "    x_i = x_0\n",
        "    func_x_i = oracle.func(x_i)\n",
        "    grad_x_i = -oracle.grad(x_i)\n",
        "    trace = []\n",
        "    funcRes = []\n",
        "    funcRes.append(3)\n",
        "    funcRes.append(func_x_i)\n",
        "    if x_0.size <= 2:\n",
        "        trace.append(np.copy(x_i))\n",
        "    count_of_appeals = 2\n",
        "    while abs(funcRes[-1] - funcRes[-2]) >= 0.01:\n",
        "        d_k = -grad_x_i\n",
        "        a_k, c = goldenratio(x_i)\n",
        "        x_i += a_k * d_k\n",
        "        func_x_i = oracle.func(x_i)\n",
        "        grad_x_i = oracle.grad(x_i)\n",
        "        count_of_appeals += 2 + c\n",
        "        funcRes.append(func_x_i)\n",
        "        if x_0.size <= 2:\n",
        "            trace.append(np.copy(x_i))\n",
        "    return x_i, trace, funcRes, count_of_appeals"
      ]
    },
    {
      "cell_type": "code",
      "execution_count": null,
      "metadata": {
        "id": "LAi27ZlREy0u"
      },
      "outputs": [],
      "source": [
        "b = np.array([0.0, 0.0])\n",
        "oracle = QuadraticOracle(np.array([[1.0, 0.0], [0.0, 1.0]]), b)\n",
        "x_i, trace, funcRes, count_of_appeals = gradientDescentGoldenSearch(oracle, np.array([6.0, 6.0]))\n",
        "result = funcRes[-1]\n",
        "print(\"результат: \" + str(result))\n",
        "print('число итераций: ' + str(len(funcRes)) + ', число обращений к оракулу: ' + str(count_of_appeals))\n",
        "\n",
        "plotLevels(oracle.func)\n",
        "plotTrace(trace)\n",
        "plt.show()"
      ]
    },
    {
      "cell_type": "markdown",
      "source": [],
      "metadata": {
        "id": "vzdceQ5Kupnx"
      }
    },
    {
      "cell_type": "code",
      "source": [
        "def weak_wolfe(oracle, x_i, d_k, method, c, c1, c2, al_0, previous_al=None):\n",
        "      al = al_0 if previous_al is None else previous_al\n",
        "      while (oracle.funcDirectional(x_i, d_k, al) > oracle.func(x_i) + c1 * al * oracle.gradDirectional(x_i, d_k, 0)):\n",
        "        al /= 2\n",
        "      return al\n",
        "def strong_wolfe(oracle, x_i, d_k, method, c, c1, c2, al_0, previous_al=None):\n",
        "      phi = lambda x: oracle.funcDirectional(x_i, d_k, x)\n",
        "      derphi = lambda x: oracle.gradDirectional(x_i, d_k, x)\n",
        "      phi_0 = phi(0)\n",
        "      derphi_0 = derphi(0)\n",
        "      al = scalar_search_wolfe2(phi=phi, derphi=derphi, phi0=phi_0, derphi0=derphi_0, c1=c1, c2=c2)[0]\n",
        "      if al:\n",
        "          return al\n",
        "      else:\n",
        "          return weak_wolfe(oracle, x_i, d_k, 'Armijo', c, c1, c2, al_0, previous_al)\n"
      ],
      "metadata": {
        "id": "35rVrUdtup9x"
      },
      "execution_count": 7,
      "outputs": []
    },
    {
      "cell_type": "code",
      "source": [
        "def gradientDescent(oracle: QuadraticOracle, x_0, method, c0, c1, al, tolerance=1e-5, max_iter=1000):\n",
        "    x_i = x_0\n",
        "    func_x_i = oracle.func(x_i)\n",
        "    grad_x_i = oracle.grad(x_i)\n",
        "    a_k = None\n",
        "    trace = []\n",
        "    funcRes = []\n",
        "    grad_x_0_norm = np.linalg.norm(grad_x_i)\n",
        "    funcRes.append(func_x_i)\n",
        "    if x_0.size <= 2:\n",
        "        trace.append(np.copy(x_i))\n",
        "    for _ in range(max_iter):\n",
        "        d_k = -grad_x_i\n",
        "        a_k = strong_wolfe(oracle, x_i, d_k, method, 0.5, c0, c1, al, 2 * a_k if a_k else None)\n",
        "        if method == 'Division':\n",
        "          a_k /= 2\n",
        "        x_i += a_k * d_k\n",
        "        func_x_i = oracle.func(x_i)\n",
        "        grad_x_i = oracle.grad(x_i)\n",
        "        grad_x_i_norm = np.linalg.norm(grad_x_i)\n",
        "\n",
        "        funcRes.append(func_x_i)\n",
        "        if x_0.size <= 2:\n",
        "            trace.append(np.copy(x_i))\n",
        "        if grad_x_i_norm ** 2 <= tolerance * grad_x_0_norm ** 2:\n",
        "            return x_i, trace, funcRes\n",
        "    return x_i, trace, funcRes"
      ],
      "metadata": {
        "id": "Rp1rbhASusVn"
      },
      "execution_count": 4,
      "outputs": []
    },
    {
      "cell_type": "code",
      "source": [
        "def condition(R, i, n, condition_numbers):\n",
        "  for number in condition_numbers: \n",
        "    np.random.seed(1000 + i)\n",
        "    diag = np.random.default_rng().uniform(low=1, high=number, size=n) \n",
        "    diag[0] = 1\n",
        "    diag[-1] = number\n",
        "    A = diags(diag).toarray()\n",
        "    b = np.random.default_rng().uniform(low=1, high=number, size=n) \n",
        "    _, _, funcs = gradientDescent(QuadraticOracle(A, b), np.zeros(n), 'Wolfe', 0.1, 0.1, 0.2)\n",
        "    R[n][i].append(len(funcs))\n",
        "    # print('размерность: ' + str(n) + ', число обусловленности: ' + str(number) + ', количество итераций: ' + str(len(funcs)))\n",
        "    # print(str(len(funcs)))"
      ],
      "metadata": {
        "id": "auJuib89vAm8"
      },
      "execution_count": 9,
      "outputs": []
    },
    {
      "cell_type": "code",
      "source": [
        "def buildDeps():\n",
        "    dims = [10, 100, 500, 1000]\n",
        "    colors = ['c', 'm', 'y', 'r']\n",
        "    condition_numbers = list(range(1, 1000, 50)) \n",
        "    number_of_samples = 4\n",
        "    R = {}\n",
        "    for n, color in zip(dims, colors):\n",
        "        R[n] = [[] for _ in range(number_of_samples)] \n",
        "        print(\"размерность: \" + str(n))\n",
        "        for i in range(number_of_samples): \n",
        "            print('new function')\n",
        "            condition(R, i, n, condition_numbers)\n",
        "            plt.plot(condition_numbers, R[n][i], color=color, alpha=0.3, linestyle='--')\n",
        "        plt.plot(condition_numbers, np.mean(R[n], axis=0), color=color, label='n = {}'.format(n))\n",
        "    plt.legend()\n",
        "    plt.grid()\n",
        "    plt.ylabel('Количество итераций $R(n, \\condition number)$')\n",
        "    plt.xlabel('Число обусловленности $\\conditiona number$')\n",
        "buildDeps()\n",
        "plt.show()"
      ],
      "metadata": {
        "id": "4QzW9k33uu59"
      },
      "execution_count": null,
      "outputs": []
    }
  ],
  "metadata": {
    "colab": {
      "provenance": []
    },
    "kernelspec": {
      "display_name": "Python 3 (ipykernel)",
      "language": "python",
      "name": "python3"
    },
    "language_info": {
      "codemirror_mode": {
        "name": "ipython",
        "version": 3
      },
      "file_extension": ".py",
      "mimetype": "text/x-python",
      "name": "python",
      "nbconvert_exporter": "python",
      "pygments_lexer": "ipython3",
      "version": "3.11.2"
    }
  },
  "nbformat": 4,
  "nbformat_minor": 0
}